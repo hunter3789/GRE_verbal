{
  "nbformat": 4,
  "nbformat_minor": 0,
  "metadata": {
    "colab": {
      "provenance": []
    },
    "kernelspec": {
      "name": "python3",
      "display_name": "Python 3"
    },
    "language_info": {
      "name": "python"
    }
  },
  "cells": [
    {
      "cell_type": "code",
      "source": [
        "%pip install googletrans==4.0.0-rc1 openpyxl"
      ],
      "metadata": {
        "colab": {
          "base_uri": "https://localhost:8080/"
        },
        "id": "MvGuwLzCNKYj",
        "outputId": "42ab3a45-cf20-4f4c-8300-a905dbfa708f"
      },
      "execution_count": 8,
      "outputs": [
        {
          "output_type": "stream",
          "name": "stdout",
          "text": [
            "Requirement already satisfied: googletrans==4.0.0-rc1 in /usr/local/lib/python3.11/dist-packages (4.0.0rc1)\n",
            "Requirement already satisfied: openpyxl in /usr/local/lib/python3.11/dist-packages (3.1.5)\n",
            "Requirement already satisfied: httpx==0.13.3 in /usr/local/lib/python3.11/dist-packages (from googletrans==4.0.0-rc1) (0.13.3)\n",
            "Requirement already satisfied: certifi in /usr/local/lib/python3.11/dist-packages (from httpx==0.13.3->googletrans==4.0.0-rc1) (2025.4.26)\n",
            "Requirement already satisfied: hstspreload in /usr/local/lib/python3.11/dist-packages (from httpx==0.13.3->googletrans==4.0.0-rc1) (2025.1.1)\n",
            "Requirement already satisfied: sniffio in /usr/local/lib/python3.11/dist-packages (from httpx==0.13.3->googletrans==4.0.0-rc1) (1.3.1)\n",
            "Requirement already satisfied: chardet==3.* in /usr/local/lib/python3.11/dist-packages (from httpx==0.13.3->googletrans==4.0.0-rc1) (3.0.4)\n",
            "Requirement already satisfied: idna==2.* in /usr/local/lib/python3.11/dist-packages (from httpx==0.13.3->googletrans==4.0.0-rc1) (2.10)\n",
            "Requirement already satisfied: rfc3986<2,>=1.3 in /usr/local/lib/python3.11/dist-packages (from httpx==0.13.3->googletrans==4.0.0-rc1) (1.5.0)\n",
            "Requirement already satisfied: httpcore==0.9.* in /usr/local/lib/python3.11/dist-packages (from httpx==0.13.3->googletrans==4.0.0-rc1) (0.9.1)\n",
            "Requirement already satisfied: h11<0.10,>=0.8 in /usr/local/lib/python3.11/dist-packages (from httpcore==0.9.*->httpx==0.13.3->googletrans==4.0.0-rc1) (0.9.0)\n",
            "Requirement already satisfied: h2==3.* in /usr/local/lib/python3.11/dist-packages (from httpcore==0.9.*->httpx==0.13.3->googletrans==4.0.0-rc1) (3.2.0)\n",
            "Requirement already satisfied: hyperframe<6,>=5.2.0 in /usr/local/lib/python3.11/dist-packages (from h2==3.*->httpcore==0.9.*->httpx==0.13.3->googletrans==4.0.0-rc1) (5.2.0)\n",
            "Requirement already satisfied: hpack<4,>=3.0 in /usr/local/lib/python3.11/dist-packages (from h2==3.*->httpcore==0.9.*->httpx==0.13.3->googletrans==4.0.0-rc1) (3.0.0)\n",
            "Requirement already satisfied: et-xmlfile in /usr/local/lib/python3.11/dist-packages (from openpyxl) (2.0.0)\n"
          ]
        }
      ]
    },
    {
      "cell_type": "code",
      "source": [
        "import pandas as pd\n",
        "\n",
        "# Load the uploaded Excel file\n",
        "file_path = \"./Group1.xlsx\"\n",
        "xls = pd.ExcelFile(file_path)\n",
        "\n",
        "# Read all sheet names (each sheet is a group)\n",
        "sheet_names = xls.sheet_names\n",
        "\n",
        "# Read all sheets into a dictionary, skipping the first row\n",
        "vocab_groups = {sheet: xls.parse(sheet, skiprows=1) for sheet in sheet_names}\n",
        "\n",
        "df = vocab_groups['Sheet1']\n",
        "\n",
        "# Ensure columns are of string type (object dtype)\n",
        "df['Synonym1'] = df['Synonym1'].astype('object')\n",
        "df['Synonym2'] = df['Synonym2'].astype('object')\n",
        "df['Synonym3'] = df['Synonym3'].astype('object')\n",
        "df['Korean'] = df['Korean'].astype('object')\n",
        "\n",
        "print(df)"
      ],
      "metadata": {
        "colab": {
          "base_uri": "https://localhost:8080/"
        },
        "id": "s0F-bSQFwQVW",
        "outputId": "7778e805-0449-4e1c-82c3-ec6b0d4cfc40"
      },
      "execution_count": 21,
      "outputs": [
        {
          "output_type": "stream",
          "name": "stdout",
          "text": [
            "           Words Synonym1 Synonym2 Synonym3 Korean\n",
            "0         abound      NaN      NaN      NaN    NaN\n",
            "1      amorphous      NaN      NaN      NaN    NaN\n",
            "2        austere      NaN      NaN      NaN    NaN\n",
            "3          belie      NaN      NaN      NaN    NaN\n",
            "4     capricious      NaN      NaN      NaN    NaN\n",
            "5       cerebral      NaN      NaN      NaN    NaN\n",
            "6      congenial      NaN      NaN      NaN    NaN\n",
            "7    conspicuous      NaN      NaN      NaN    NaN\n",
            "8        cursory      NaN      NaN      NaN    NaN\n",
            "9       daunting      NaN      NaN      NaN    NaN\n",
            "10         deify      NaN      NaN      NaN    NaN\n",
            "11      didactic      NaN      NaN      NaN    NaN\n",
            "12   disseminate      NaN      NaN      NaN    NaN\n",
            "13      feasible      NaN      NaN      NaN    NaN\n",
            "14         flout      NaN      NaN      NaN    NaN\n",
            "15   homogeneous      NaN      NaN      NaN    NaN\n",
            "16       humdrum      NaN      NaN      NaN    NaN\n",
            "17       insipid      NaN      NaN      NaN    NaN\n",
            "18    loquacious      NaN      NaN      NaN    NaN\n",
            "19  misanthropic      NaN      NaN      NaN    NaN\n",
            "20      misnomer      NaN      NaN      NaN    NaN\n",
            "21     negligent      NaN      NaN      NaN    NaN\n",
            "22    obsequious      NaN      NaN      NaN    NaN\n",
            "23       placate      NaN      NaN      NaN    NaN\n",
            "24    proclivity      NaN      NaN      NaN    NaN\n",
            "25       puerile      NaN      NaN      NaN    NaN\n",
            "26      quixotic      NaN      NaN      NaN    NaN\n",
            "27   spendthrift      NaN      NaN      NaN    NaN\n",
            "28      taciturn      NaN      NaN      NaN    NaN\n",
            "29          wary      NaN      NaN      NaN    NaN\n"
          ]
        }
      ]
    },
    {
      "cell_type": "code",
      "source": [
        "import requests\n",
        "from googletrans import Translator\n",
        "\n",
        "def get_synonyms(word, max_results=3):\n",
        "    try:\n",
        "        response = requests.get(f\"https://api.datamuse.com/words?ml={word}\")\n",
        "        if response.status_code == 200:\n",
        "            data = response.json()\n",
        "            return [item['word'] for item in data[:max_results]]\n",
        "        else:\n",
        "            return [\"API error\"]\n",
        "    except Exception as e:\n",
        "        return [f\"Error: {e}\"]\n",
        "\n",
        "# Translate each word into Korean using googletrans and find synonyms using API\n",
        "words = df['Words'].tolist()\n",
        "translator = Translator()\n",
        "translated, syn1, syn2, syn3 = [], [], [], []\n",
        "\n",
        "for word in words:\n",
        "    # Translate\n",
        "    try:\n",
        "        ko = translator.translate(word, src='en', dest='ko').text\n",
        "    except:\n",
        "        ko = \"\"\n",
        "\n",
        "    # Synonyms\n",
        "    synonyms = get_synonyms(word)\n",
        "    syn1.append(synonyms[0] if len(synonyms) > 0 else \"\")\n",
        "    syn2.append(synonyms[1] if len(synonyms) > 1 else \"\")\n",
        "    syn3.append(synonyms[2] if len(synonyms) > 2 else \"\")\n",
        "    translated.append(ko)"
      ],
      "metadata": {
        "id": "quPUsdidXwxx"
      },
      "execution_count": 19,
      "outputs": []
    },
    {
      "cell_type": "code",
      "source": [
        "df.loc[0:len(translated)-1, 'Synonym1'] = syn1\n",
        "df.loc[0:len(translated)-1, 'Synonym2'] = syn2\n",
        "df.loc[0:len(translated)-1, 'Synonym3'] = syn3\n",
        "df.loc[0:len(translated)-1, 'Korean'] = translated\n",
        "\n",
        "print(df)"
      ],
      "metadata": {
        "id": "cEI96XDvYcei",
        "outputId": "52045988-4e4c-4b9b-8d07-8acaafd6c96a",
        "colab": {
          "base_uri": "https://localhost:8080/"
        }
      },
      "execution_count": 22,
      "outputs": [
        {
          "output_type": "stream",
          "name": "stdout",
          "text": [
            "           Words        Synonym1        Synonym2      Synonym3        Korean\n",
            "0         abound           burst         bristle        thrive         많이 있다\n",
            "1      amorphous       shapeless  noncrystalline      formless           비정질\n",
            "2        austere           stern          severe         stark            남풍\n",
            "3          belie          negate      contradict  misrepresent           믿는다\n",
            "4     capricious        freakish   unpredictable     whimsical         변덕스러운\n",
            "5       cerebral    intellectual      cerebellar         brain             뇌\n",
            "6      congenial        sociable      compatible     agreeable           선천성\n",
            "7    conspicuous         obvious     unconcealed       salient       확실히 보이는\n",
            "8        cursory          casual         passing      careless          서두르는\n",
            "9       daunting    intimidating    discouraging    intimidate           어려운\n",
            "10         deify         idolize         lionize        vilify           모시다\n",
            "11      didactic     instructive     informative   instruction  남을 가르치고 싶어하는\n",
            "12   disseminate       propagate         diffuse        spread            전파\n",
            "13      feasible     practicable        workable   practicably      실행할 수 있는\n",
            "14         flout           scoff            jeer       barrack          플라우트\n",
            "15   homogeneous           solid     homogenized       uniform            질의\n",
            "16       humdrum            dull     unglamorous  unglamourous        평범한 사람\n",
            "17       insipid       tasteless       savorless    flavorless           멍청한\n",
            "18    loquacious       talkative       garrulous        chatty         말이 많은\n",
            "19  misanthropic  misanthropical         cynical   distrustful            불신\n",
            "20      misnomer           error        oxymoron    oxymoronic        그릇된 명칭\n",
            "21     negligent        careless     inattentive    neglectful            과실\n",
            "22    obsequious     bootlicking     sycophantic      toadyish           멍청한\n",
            "23       placate          pacify         appease        lenify           달래다\n",
            "24    proclivity      propensity         leaning      tendency            성향\n",
            "25       puerile        juvenile      adolescent        jejune        어린이 다운\n",
            "26      quixotic        romantic       wild-eyed   impractical      quixotic\n",
            "27   spendthrift       spend-all      profligate      prodigal            쓰기\n",
            "28      taciturn     untalkative        reticent   buttoned-up           말없는\n",
            "29          wary           leery      suspicious   distrustful        조심성 있는\n"
          ]
        }
      ]
    }
  ]
}