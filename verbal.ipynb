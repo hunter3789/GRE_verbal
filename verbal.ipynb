{
  "nbformat": 4,
  "nbformat_minor": 0,
  "metadata": {
    "colab": {
      "provenance": []
    },
    "kernelspec": {
      "name": "python3",
      "display_name": "Python 3"
    },
    "language_info": {
      "name": "python"
    }
  },
  "cells": [
    {
      "cell_type": "code",
      "source": [
        "import pandas as pd\n",
        "\n",
        "# Load the uploaded Excel file\n",
        "file_path = \"./Group1.xlsx\"\n",
        "xls = pd.ExcelFile(file_path)\n",
        "\n",
        "# Read all sheet names (each sheet is a group)\n",
        "sheet_names = xls.sheet_names\n",
        "\n",
        "# Read all sheets into a dictionary, skipping the first row\n",
        "vocab_groups = {sheet: xls.parse(sheet, skiprows=1) for sheet in sheet_names}\n",
        "\n",
        "print(vocab_groups['Sheet1'])"
      ],
      "metadata": {
        "colab": {
          "base_uri": "https://localhost:8080/"
        },
        "id": "s0F-bSQFwQVW",
        "outputId": "98118678-92bb-4c61-b2c5-074a11dfb460"
      },
      "execution_count": 3,
      "outputs": [
        {
          "output_type": "stream",
          "name": "stdout",
          "text": [
            "           Words  Synonym1  Synonym2  Synonym3  Korean\n",
            "0         abound       NaN       NaN       NaN     NaN\n",
            "1      amorphous       NaN       NaN       NaN     NaN\n",
            "2        austere       NaN       NaN       NaN     NaN\n",
            "3          belie       NaN       NaN       NaN     NaN\n",
            "4     capricious       NaN       NaN       NaN     NaN\n",
            "5       cerebral       NaN       NaN       NaN     NaN\n",
            "6      congenial       NaN       NaN       NaN     NaN\n",
            "7    conspicuous       NaN       NaN       NaN     NaN\n",
            "8        cursory       NaN       NaN       NaN     NaN\n",
            "9       daunting       NaN       NaN       NaN     NaN\n",
            "10         deify       NaN       NaN       NaN     NaN\n",
            "11      didactic       NaN       NaN       NaN     NaN\n",
            "12   disseminate       NaN       NaN       NaN     NaN\n",
            "13      feasible       NaN       NaN       NaN     NaN\n",
            "14         flout       NaN       NaN       NaN     NaN\n",
            "15   homogeneous       NaN       NaN       NaN     NaN\n",
            "16       humdrum       NaN       NaN       NaN     NaN\n",
            "17       insipid       NaN       NaN       NaN     NaN\n",
            "18    loquacious       NaN       NaN       NaN     NaN\n",
            "19  misanthropic       NaN       NaN       NaN     NaN\n",
            "20      misnomer       NaN       NaN       NaN     NaN\n",
            "21     negligent       NaN       NaN       NaN     NaN\n",
            "22    obsequious       NaN       NaN       NaN     NaN\n",
            "23       placate       NaN       NaN       NaN     NaN\n",
            "24    proclivity       NaN       NaN       NaN     NaN\n",
            "25       puerile       NaN       NaN       NaN     NaN\n",
            "26      quixotic       NaN       NaN       NaN     NaN\n",
            "27   spendthrift       NaN       NaN       NaN     NaN\n",
            "28      taciturn       NaN       NaN       NaN     NaN\n",
            "29          wary       NaN       NaN       NaN     NaN\n"
          ]
        }
      ]
    }
  ]
}